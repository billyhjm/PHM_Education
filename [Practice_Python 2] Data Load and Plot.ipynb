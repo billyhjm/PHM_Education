{
 "cells": [
  {
   "cell_type": "code",
   "execution_count": null,
   "metadata": {},
   "outputs": [],
   "source": [
    "!git clone https://github.com/billyhjm/PHM_Education.git\n",
    "cd /content/PHM_Education"
   ]
  },
  {
   "cell_type": "code",
   "execution_count": 1,
   "metadata": {
    "ExecuteTime": {
     "end_time": "2022-03-28T12:59:51.697445Z",
     "start_time": "2022-03-28T12:59:46.871358Z"
    }
   },
   "outputs": [],
   "source": [
    "import pandas as pd\n",
    "import numpy as np\n",
    "import matplotlib.pyplot as plt"
   ]
  },
  {
   "attachments": {},
   "cell_type": "markdown",
   "metadata": {},
   "source": [
    "# Load Data"
   ]
  },
  {
   "cell_type": "code",
   "execution_count": 2,
   "metadata": {
    "ExecuteTime": {
     "end_time": "2022-03-28T12:59:51.952762Z",
     "start_time": "2022-03-28T12:59:51.703435Z"
    }
   },
   "outputs": [
    {
     "name": "stdout",
     "output_type": "stream",
     "text": [
      "(243938, 2)\n",
      "[[0.00000000e+00 1.45667273e-01]\n",
      " [1.00000000e+00 9.77963636e-02]\n",
      " [2.00000000e+00 5.48563636e-02]\n",
      " ...\n",
      " [2.43935000e+05 1.40530909e-01]\n",
      " [2.43936000e+05 9.55363636e-02]\n",
      " [2.43937000e+05 9.01945455e-02]]\n"
     ]
    }
   ],
   "source": [
    "data = np.array(pd.read_csv('./data/data_normal.csv'))\n",
    "# data = np.array(pd.read_csv('./data/data_normal.txt'))\n",
    "print(np.shape(data))\n",
    "print(data)\n",
    "\n",
    "v_normal = data[:,1]"
   ]
  },
  {
   "cell_type": "code",
   "execution_count": 3,
   "metadata": {
    "ExecuteTime": {
     "end_time": "2022-03-28T12:59:52.103359Z",
     "start_time": "2022-03-28T12:59:51.955754Z"
    }
   },
   "outputs": [
    {
     "name": "stdout",
     "output_type": "stream",
     "text": [
      "(121846, 2)\n",
      "[[ 0.00000000e+00  2.27353293e-03]\n",
      " [ 1.00000000e+00 -1.04947904e-01]\n",
      " [ 2.00000000e+00  8.20095808e-02]\n",
      " ...\n",
      " [ 1.21843000e+05 -1.12377485e-01]\n",
      " [ 1.21844000e+05 -8.52980838e-02]\n",
      " [ 1.21845000e+05 -2.62674251e-02]]\n"
     ]
    }
   ],
   "source": [
    "data = np.array(pd.read_csv('./data/data_fault.csv'))\n",
    "# data = np.array(pd.read_csv('./data/data_fault.txt'))\n",
    "print(np.shape(data))\n",
    "print(data)\n",
    "\n",
    "v_fault = data[:,1]"
   ]
  },
  {
   "attachments": {},
   "cell_type": "markdown",
   "metadata": {},
   "source": [
    "# Plot Data"
   ]
  },
  {
   "cell_type": "code",
   "execution_count": 4,
   "metadata": {
    "ExecuteTime": {
     "end_time": "2022-03-28T12:59:52.734522Z",
     "start_time": "2022-03-28T12:59:52.107348Z"
    }
   },
   "outputs": [
    {
     "data": {
      "text/plain": [
       "(-3.0, 3.0)"
      ]
     },
     "execution_count": 4,
     "metadata": {},
     "output_type": "execute_result"
    },
    {
     "data": {
      "image/png": "[encoded data removed]",
      "text/plain": [
       "<Figure size 432x288 with 1 Axes>"
      ]
     },
     "metadata": {
      "needs_background": "light"
     },
     "output_type": "display_data"
    }
   ],
   "source": [
    "plt.figure()\n",
    "plt.plot(v_fault, 'r')\n",
    "plt.plot(v_normal, 'b')\n",
    "plt.ylim([-3, 3])"
   ]
  }
 ],
 "metadata": {
  "kernelspec": {
   "display_name": "Python 3 (ipykernel)",
   "language": "python",
   "name": "python3"
  },
  "language_info": {
   "codemirror_mode": {
    "name": "ipython",
    "version": 3
   },
   "file_extension": ".py",
   "mimetype": "text/x-python",
   "name": "python",
   "nbconvert_exporter": "python",
   "pygments_lexer": "ipython3",
   "version": "3.9.12"
  },
  "toc": {
   "base_numbering": 1,
   "nav_menu": {},
   "number_sections": true,
   "sideBar": true,
   "skip_h1_title": false,
   "title_cell": "Table of Contents",
   "title_sidebar": "Contents",
   "toc_cell": false,
   "toc_position": {},
   "toc_section_display": true,
   "toc_window_display": false
  },
  "varInspector": {
   "cols": {
    "lenName": 16,
    "lenType": 16,
    "lenVar": 40
   },
   "kernels_config": {
    "python": {
     "delete_cmd_postfix": "",
     "delete_cmd_prefix": "del ",
     "library": "var_list.py",
     "varRefreshCmd": "print(var_dic_list())"
    },
    "r": {
     "delete_cmd_postfix": ") ",
     "delete_cmd_prefix": "rm(",
     "library": "var_list.r",
     "varRefreshCmd": "cat(var_dic_list()) "
    }
   },
   "types_to_exclude": [
    "module",
    "function",
    "builtin_function_or_method",
    "instance",
    "_Feature"
   ],
   "window_display": false
  }
 },
 "nbformat": 4,
 "nbformat_minor": 4
}
