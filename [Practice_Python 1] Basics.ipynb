{
 "cells": [
  {
   "cell_type": "markdown",
   "metadata": {},
   "source": [
    "# Python Basics"
   ]
  },
  {
   "cell_type": "markdown",
   "metadata": {},
   "source": [
    "### 코드 실행\n",
    "Ctrl + Enter: 셀 실행 \\\n",
    "Shift + Enter: 셀 실행 후 다음셀 이동 \\\n",
    "\n",
    "### 셀 생성, 삭제\n",
    "셀 배경 선택 후 -> \\\n",
    "d + d: 셀 삭제 \\\n",
    "z: 셀 삭제 취소 \\\n",
    "a: 위에 셀 생성 \\\n",
    "b: 아래에 셀 생성"
   ]
  },
  {
   "cell_type": "code",
   "execution_count": 1,
   "metadata": {
    "ExecuteTime": {
     "end_time": "2022-03-28T12:59:40.818552Z",
     "start_time": "2022-03-28T12:59:40.812569Z"
    }
   },
   "outputs": [],
   "source": [
    "import numpy as np"
   ]
  },
  {
   "attachments": {},
   "cell_type": "markdown",
   "metadata": {},
   "source": [
    "###### Create an array (matrix)"
   ]
  },
  {
   "cell_type": "code",
   "execution_count": 2,
   "metadata": {
    "ExecuteTime": {
     "end_time": "2022-03-28T12:59:40.849470Z",
     "start_time": "2022-03-28T12:59:40.827529Z"
    }
   },
   "outputs": [
    {
     "name": "stdout",
     "output_type": "stream",
     "text": [
      "[0 1 3 4]\n"
     ]
    }
   ],
   "source": [
    "a = np.array([0, 1, 3, 4])\n",
    "print(a)"
   ]
  },
  {
   "attachments": {},
   "cell_type": "markdown",
   "metadata": {},
   "source": [
    "##### numpy.arange([start, ]stop, [step, ]dtype=None, *, like=None)"
   ]
  },
  {
   "cell_type": "code",
   "execution_count": 3,
   "metadata": {
    "ExecuteTime": {
     "end_time": "2022-03-28T12:59:40.865427Z",
     "start_time": "2022-03-28T12:59:40.853460Z"
    }
   },
   "outputs": [
    {
     "name": "stdout",
     "output_type": "stream",
     "text": [
      "[0.1 0.2 0.3 0.4 0.5 0.6 0.7 0.8 0.9]\n"
     ]
    }
   ],
   "source": [
    "b = np.arange(0.1, 1, 0.1) \n",
    "print(b)"
   ]
  },
  {
   "attachments": {},
   "cell_type": "markdown",
   "metadata": {},
   "source": [
    "###### Matrix Size 알아보기"
   ]
  },
  {
   "cell_type": "code",
   "execution_count": 4,
   "metadata": {
    "ExecuteTime": {
     "end_time": "2022-03-28T12:59:40.943219Z",
     "start_time": "2022-03-28T12:59:40.868420Z"
    }
   },
   "outputs": [
    {
     "name": "stdout",
     "output_type": "stream",
     "text": [
      "(9,)\n",
      "Size of Matrix is (9,)\n"
     ]
    }
   ],
   "source": [
    "print(np.shape(b))\n",
    "print('Size of Matrix is', np.shape(b))"
   ]
  },
  {
   "attachments": {},
   "cell_type": "markdown",
   "metadata": {},
   "source": [
    "##### Mean, var, kurtosis"
   ]
  },
  {
   "cell_type": "code",
   "execution_count": 5,
   "metadata": {
    "ExecuteTime": {
     "end_time": "2022-03-28T12:59:42.505041Z",
     "start_time": "2022-03-28T12:59:40.950202Z"
    }
   },
   "outputs": [
    {
     "name": "stdout",
     "output_type": "stream",
     "text": [
      "0.5\n",
      "0.06666666666666668\n"
     ]
    },
    {
     "ename": "AttributeError",
     "evalue": "module 'numpy' has no attribute 'kurtosis'",
     "output_type": "error",
     "traceback": [
      "\u001b[1;31m---------------------------------------------------------------------------\u001b[0m",
      "\u001b[1;31mAttributeError\u001b[0m                            Traceback (most recent call last)",
      "\u001b[1;32md:\\Main\\00_Python\\0_Signal Processing Education\\02_Python Code_230719\\[Practice_Python 1] Basics.ipynb Cell 9\u001b[0m in \u001b[0;36m<cell line: 3>\u001b[1;34m()\u001b[0m\n\u001b[0;32m      <a href='vscode-notebook-cell:/d%3A/Main/00_Python/0_Signal%20Processing%20Education/02_Python%20Code_230719/%5BPractice_Python%201%5D%20Basics.ipynb#X11sZmlsZQ%3D%3D?line=0'>1</a>\u001b[0m mean \u001b[39m=\u001b[39m np\u001b[39m.\u001b[39mmean(b);\u001b[39mprint\u001b[39m(mean)\n\u001b[0;32m      <a href='vscode-notebook-cell:/d%3A/Main/00_Python/0_Signal%20Processing%20Education/02_Python%20Code_230719/%5BPractice_Python%201%5D%20Basics.ipynb#X11sZmlsZQ%3D%3D?line=1'>2</a>\u001b[0m var \u001b[39m=\u001b[39m np\u001b[39m.\u001b[39mvar(b);\u001b[39mprint\u001b[39m(var)\n\u001b[1;32m----> <a href='vscode-notebook-cell:/d%3A/Main/00_Python/0_Signal%20Processing%20Education/02_Python%20Code_230719/%5BPractice_Python%201%5D%20Basics.ipynb#X11sZmlsZQ%3D%3D?line=2'>3</a>\u001b[0m kurt \u001b[39m=\u001b[39m np\u001b[39m.\u001b[39;49mkurtosis(b);\u001b[39mprint\u001b[39m(kurt)\n",
      "File \u001b[1;32mc:\\ProgramData\\Anaconda3\\lib\\site-packages\\numpy\\__init__.py:313\u001b[0m, in \u001b[0;36m__getattr__\u001b[1;34m(attr)\u001b[0m\n\u001b[0;32m    310\u001b[0m     \u001b[39mfrom\u001b[39;00m \u001b[39m.\u001b[39;00m\u001b[39mtesting\u001b[39;00m \u001b[39mimport\u001b[39;00m Tester\n\u001b[0;32m    311\u001b[0m     \u001b[39mreturn\u001b[39;00m Tester\n\u001b[1;32m--> 313\u001b[0m \u001b[39mraise\u001b[39;00m \u001b[39mAttributeError\u001b[39;00m(\u001b[39m\"\u001b[39m\u001b[39mmodule \u001b[39m\u001b[39m{!r}\u001b[39;00m\u001b[39m has no attribute \u001b[39m\u001b[39m\"\u001b[39m\n\u001b[0;32m    314\u001b[0m                      \u001b[39m\"\u001b[39m\u001b[39m{!r}\u001b[39;00m\u001b[39m\"\u001b[39m\u001b[39m.\u001b[39mformat(\u001b[39m__name__\u001b[39m, attr))\n",
      "\u001b[1;31mAttributeError\u001b[0m: module 'numpy' has no attribute 'kurtosis'"
     ]
    }
   ],
   "source": [
    "mean = np.mean(b);print(mean)\n",
    "var = np.var(b);print(var)\n",
    "kurt = np.kurtosis(b);print(kurt)"
   ]
  },
  {
   "cell_type": "code",
   "execution_count": null,
   "metadata": {
    "ExecuteTime": {
     "end_time": "2022-03-28T12:59:42.510027Z",
     "start_time": "2022-03-28T12:59:42.510027Z"
    }
   },
   "outputs": [],
   "source": [
    "import scipy.stats\n",
    "kurt = scipy.stats.kurtosis(b);print(kurt)"
   ]
  },
  {
   "attachments": {},
   "cell_type": "markdown",
   "metadata": {},
   "source": [
    "###### Sine Plot"
   ]
  },
  {
   "cell_type": "code",
   "execution_count": null,
   "metadata": {
    "ExecuteTime": {
     "end_time": "2022-03-28T12:59:42.517009Z",
     "start_time": "2022-03-28T12:59:42.517009Z"
    }
   },
   "outputs": [],
   "source": [
    "import matplotlib.pyplot as plt"
   ]
  },
  {
   "cell_type": "code",
   "execution_count": null,
   "metadata": {
    "ExecuteTime": {
     "end_time": "2022-03-28T12:59:42.522994Z",
     "start_time": "2022-03-28T12:59:42.522994Z"
    }
   },
   "outputs": [],
   "source": [
    "f = 1\n",
    "fs  = 10\n",
    "T = 2\n",
    "t=np.arange(0, T, 1/fs)\n",
    "print(np.shape(t))\n",
    "x=np.cos(2*np.pi*f*t)"
   ]
  },
  {
   "cell_type": "code",
   "execution_count": null,
   "metadata": {},
   "outputs": [],
   "source": [
    "plt.figure(figsize=(4,4))\n",
    "plt.plot(t,x,'r-o')\n",
    "plt.xlabel('Time(s)')\n",
    "plt.ylim([-1.1, 1.1])\n",
    "plt.show()"
   ]
  }
 ],
 "metadata": {
  "kernelspec": {
   "display_name": "Python 3 (ipykernel)",
   "language": "python",
   "name": "python3"
  },
  "language_info": {
   "codemirror_mode": {
    "name": "ipython",
    "version": 3
   },
   "file_extension": ".py",
   "mimetype": "text/x-python",
   "name": "python",
   "nbconvert_exporter": "python",
   "pygments_lexer": "ipython3",
   "version": "3.9.12"
  },
  "toc": {
   "base_numbering": 1,
   "nav_menu": {},
   "number_sections": true,
   "sideBar": true,
   "skip_h1_title": false,
   "title_cell": "Table of Contents",
   "title_sidebar": "Contents",
   "toc_cell": false,
   "toc_position": {},
   "toc_section_display": true,
   "toc_window_display": false
  },
  "varInspector": {
   "cols": {
    "lenName": 16,
    "lenType": 16,
    "lenVar": 40
   },
   "kernels_config": {
    "python": {
     "delete_cmd_postfix": "",
     "delete_cmd_prefix": "del ",
     "library": "var_list.py",
     "varRefreshCmd": "print(var_dic_list())"
    },
    "r": {
     "delete_cmd_postfix": ") ",
     "delete_cmd_prefix": "rm(",
     "library": "var_list.r",
     "varRefreshCmd": "cat(var_dic_list()) "
    }
   },
   "types_to_exclude": [
    "module",
    "function",
    "builtin_function_or_method",
    "instance",
    "_Feature"
   ],
   "window_display": false
  }
 },
 "nbformat": 4,
 "nbformat_minor": 4
}
