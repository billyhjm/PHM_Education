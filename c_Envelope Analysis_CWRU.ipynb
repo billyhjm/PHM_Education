{
 "cells": [
  {
   "cell_type": "code",
   "execution_count": null,
   "metadata": {},
   "outputs": [],
   "source": [
    "!git clone https://github.com/billyhjm/PHM_Education.git"
   ]
  },
  {
   "cell_type": "code",
   "execution_count": null,
   "metadata": {},
   "outputs": [],
   "source": [
    "cd /content/PHM_Education"
   ]
  },
  {
   "attachments": {},
   "cell_type": "markdown",
   "metadata": {},
   "source": [
    "# Envelope 실습"
   ]
  },
  {
   "cell_type": "code",
   "execution_count": 1,
   "metadata": {
    "ExecuteTime": {
     "end_time": "2022-03-28T13:01:32.497964Z",
     "start_time": "2022-03-28T13:01:32.482009Z"
    }
   },
   "outputs": [],
   "source": [
    "import numpy as np\n",
    "import matplotlib.pyplot as plt\n",
    "import pandas as pd\n",
    "from scipy.signal import hilbert\n",
    "import z_dependancy as z_dep\n",
    "plt.rc('font', size=20)"
   ]
  },
  {
   "attachments": {},
   "cell_type": "markdown",
   "metadata": {},
   "source": [
    "# 데이터 로드"
   ]
  },
  {
   "attachments": {},
   "cell_type": "markdown",
   "metadata": {},
   "source": [
    "## 회전 주파수 알아보기"
   ]
  },
  {
   "cell_type": "code",
   "execution_count": 2,
   "metadata": {
    "ExecuteTime": {
     "end_time": "2022-03-28T13:01:32.557746Z",
     "start_time": "2022-03-28T13:01:32.544781Z"
    },
    "executionInfo": {
     "elapsed": 1,
     "status": "ok",
     "timestamp": 1624290758880,
     "user": {
      "displayName": "Jeonghoon Kim",
      "photoUrl": "https://lh3.googleusercontent.com/a-/AOh14GgOtJjS_RLD2C-D0ZGyJaxPe-AcYKYxnV8Z68-kmjA=s64",
      "userId": "15429995566139220335"
     },
     "user_tz": -540
    },
    "id": "2FusbaF5U79j"
   },
   "outputs": [
    {
     "name": "stdout",
     "output_type": "stream",
     "text": [
      "Shaft Frequency is 29.95\n"
     ]
    }
   ],
   "source": [
    "F_shaft_rpm = 1797\n",
    "F_shaft = F_shaft_rpm/60\n",
    "print('Shaft Frequency is', F_shaft)"
   ]
  },
  {
   "attachments": {},
   "cell_type": "markdown",
   "metadata": {},
   "source": [
    "## 베어링 주파수 DB 만들기"
   ]
  },
  {
   "cell_type": "code",
   "execution_count": 3,
   "metadata": {
    "ExecuteTime": {
     "end_time": "2022-03-28T13:01:32.572706Z",
     "start_time": "2022-03-28T13:01:32.559741Z"
    },
    "executionInfo": {
     "elapsed": 1,
     "status": "ok",
     "timestamp": 1624290758880,
     "user": {
      "displayName": "Jeonghoon Kim",
      "photoUrl": "https://lh3.googleusercontent.com/a-/AOh14GgOtJjS_RLD2C-D0ZGyJaxPe-AcYKYxnV8Z68-kmjA=s64",
      "userId": "15429995566139220335"
     },
     "user_tz": -540
    },
    "id": "2FusbaF5U79j"
   },
   "outputs": [
    {
     "name": "stdout",
     "output_type": "stream",
     "text": [
      "Outer Race Fault Frequency is 107.36476\n"
     ]
    }
   ],
   "source": [
    "F_BPFI = 5.4152\n",
    "F_BPFO = 3.5848\n",
    "F_FTF = 0.398\n",
    "F_BSF = 4.7135\n",
    "\n",
    "F_BPFI_w = F_BPFI*F_shaft\n",
    "F_BPFO_w = F_BPFO*F_shaft\n",
    "F_FTF_w = F_FTF*F_shaft\n",
    "F_BSF_w = F_BSF*F_shaft\n",
    "\n",
    "print('Outer Race Fault Frequency is', F_BPFO_w)"
   ]
  },
  {
   "attachments": {},
   "cell_type": "markdown",
   "metadata": {},
   "source": [
    "## 신호 로드하고 그려보기"
   ]
  },
  {
   "attachments": {},
   "cell_type": "markdown",
   "metadata": {},
   "source": [
    "### 신호 로드하기"
   ]
  },
  {
   "cell_type": "code",
   "execution_count": 4,
   "metadata": {
    "ExecuteTime": {
     "end_time": "2022-03-28T13:01:32.662465Z",
     "start_time": "2022-03-28T13:01:32.576695Z"
    }
   },
   "outputs": [
    {
     "name": "stdout",
     "output_type": "stream",
     "text": [
      "(121846, 2)\n",
      "[[ 0.00000000e+00  2.27353293e-03]\n",
      " [ 1.00000000e+00 -1.04947904e-01]\n",
      " [ 2.00000000e+00  8.20095808e-02]\n",
      " ...\n",
      " [ 1.21843000e+05 -1.12377485e-01]\n",
      " [ 1.21844000e+05 -8.52980838e-02]\n",
      " [ 1.21845000e+05 -2.62674251e-02]]\n"
     ]
    }
   ],
   "source": [
    "fs=12000\n",
    "data = np.array(pd.read_csv('./data/data_fault.csv'))\n",
    "print(np.shape(data))\n",
    "print(data)\n",
    "v = data[:,1]"
   ]
  },
  {
   "attachments": {},
   "cell_type": "markdown",
   "metadata": {},
   "source": [
    "### 신호 그리기"
   ]
  },
  {
   "cell_type": "code",
   "execution_count": 5,
   "metadata": {
    "ExecuteTime": {
     "end_time": "2022-03-28T13:01:32.872011Z",
     "start_time": "2022-03-28T13:01:32.664461Z"
    },
    "colab": {
     "base_uri": "https://localhost:8080/",
     "height": 301
    },
    "executionInfo": {
     "elapsed": 458,
     "status": "ok",
     "timestamp": 1624290759337,
     "user": {
      "displayName": "Jeonghoon Kim",
      "photoUrl": "https://lh3.googleusercontent.com/a-/AOh14GgOtJjS_RLD2C-D0ZGyJaxPe-AcYKYxnV8Z68-kmjA=s64",
      "userId": "15429995566139220335"
     },
     "user_tz": -540
    },
    "id": "O16YGR0PZNav",
    "outputId": "cf6120ab-b092-4be6-f4ba-9a49ac29d132"
   },
   "outputs": [
    {
     "data": {
      "text/plain": [
       "(-4.0, 4.0)"
      ]
     },
     "execution_count": 5,
     "metadata": {},
     "output_type": "execute_result"
    },
    {
     "data": {
      "image/png": "[encoded data removed]",
      "text/plain": [
       "<Figure size 432x288 with 1 Axes>"
      ]
     },
     "metadata": {
      "needs_background": "light"
     },
     "output_type": "display_data"
    }
   ],
   "source": [
    "T = len(v)/fs               # 전체 샘플수 / 1초당 샘플수 = 총 시간\n",
    "t=np.arange(1/fs, T, 1/fs)  # 1/fs초 부터 T초까지 1/fs초 간격\n",
    "\n",
    "### 신호 그리기\n",
    "plt.figure()\n",
    "plt.plot(t,v)\n",
    "plt.xlabel('Time')\n",
    "plt.ylabel('v')\n",
    "plt.ylim([-4,4])"
   ]
  },
  {
   "attachments": {},
   "cell_type": "markdown",
   "metadata": {},
   "source": [
    "## 주파수 분석해보기"
   ]
  },
  {
   "cell_type": "code",
   "execution_count": 6,
   "metadata": {
    "ExecuteTime": {
     "end_time": "2022-03-28T13:01:32.932155Z",
     "start_time": "2022-03-28T13:01:32.872973Z"
    }
   },
   "outputs": [],
   "source": [
    "f, A = z_dep.z_fft_simple(v,fs)"
   ]
  },
  {
   "cell_type": "code",
   "execution_count": 7,
   "metadata": {
    "ExecuteTime": {
     "end_time": "2022-03-28T13:01:33.081745Z",
     "start_time": "2022-03-28T13:01:32.935163Z"
    }
   },
   "outputs": [
    {
     "data": {
      "image/png": "[encoded data removed]",
      "text/plain": [
       "<Figure size 432x288 with 1 Axes>"
      ]
     },
     "metadata": {
      "needs_background": "light"
     },
     "output_type": "display_data"
    }
   ],
   "source": [
    "plt.figure()\n",
    "plt.plot(f,A)\n",
    "plt.xlabel('Frequency')\n",
    "plt.ylabel('|Y|')\n",
    "plt.xlim([0, 1000])\n",
    "plt.ylim([0,0.02])\n",
    "\n",
    "for n in range(4):\n",
    "    plt.plot((n*F_shaft, n*F_shaft), (0, 0.3), 'k', linestyle='dashed')\n",
    "    plt.plot((n*F_BPFO_w, n*F_BPFO_w), (0, 0.3), 'r', linestyle='dashed')"
   ]
  },
  {
   "attachments": {},
   "cell_type": "markdown",
   "metadata": {},
   "source": [
    "## 포락선 분석해보기"
   ]
  },
  {
   "cell_type": "code",
   "execution_count": 8,
   "metadata": {
    "ExecuteTime": {
     "end_time": "2022-03-28T13:01:33.276225Z",
     "start_time": "2022-03-28T13:01:33.083740Z"
    },
    "colab": {
     "base_uri": "https://localhost:8080/",
     "height": 301
    },
    "executionInfo": {
     "elapsed": 295,
     "status": "ok",
     "timestamp": 1624290879694,
     "user": {
      "displayName": "Jeonghoon Kim",
      "photoUrl": "https://lh3.googleusercontent.com/a-/AOh14GgOtJjS_RLD2C-D0ZGyJaxPe-AcYKYxnV8Z68-kmjA=s64",
      "userId": "15429995566139220335"
     },
     "user_tz": -540
    },
    "id": "1c6hWZ9hRkGO",
    "outputId": "e3717558-1332-4776-9c2d-60ce69565823"
   },
   "outputs": [
    {
     "data": {
      "text/plain": [
       "(0.0, 500.0, 0.0, 0.01)"
      ]
     },
     "execution_count": 8,
     "metadata": {},
     "output_type": "execute_result"
    },
    {
     "data": {
      "image/png": "[encoded data removed]",
      "text/plain": [
       "<Figure size 432x288 with 1 Axes>"
      ]
     },
     "metadata": {
      "needs_background": "light"
     },
     "output_type": "display_data"
    }
   ],
   "source": [
    "v_env = abs(hilbert(v,axis=0));\n",
    "\n",
    "[f_env, A_env] = z_dep.z_fft_simple(v_env-np.mean(v_env),fs);\n",
    "\n",
    "plt.figure()\n",
    "plt.plot(f_env,A_env)\n",
    "plt.xlabel('Frequency')\n",
    "plt.ylabel('|Y|')\n",
    "plt.axis([0,500,0,0.01])"
   ]
  },
  {
   "cell_type": "code",
   "execution_count": 9,
   "metadata": {
    "ExecuteTime": {
     "end_time": "2022-03-28T13:01:33.440785Z",
     "start_time": "2022-03-28T13:01:33.278229Z"
    }
   },
   "outputs": [
    {
     "data": {
      "image/png": "[encoded data removed]",
      "text/plain": [
       "<Figure size 432x288 with 1 Axes>"
      ]
     },
     "metadata": {
      "needs_background": "light"
     },
     "output_type": "display_data"
    }
   ],
   "source": [
    "plt.figure()\n",
    "plt.plot(f_env,A_env)\n",
    "plt.xlabel('Frequency')\n",
    "plt.ylabel('|Y|')\n",
    "plt.axis([0,500,0,0.01])\n",
    "\n",
    "for n in range(4):\n",
    "    plt.plot((n*F_shaft, n*F_shaft), (0, 0.3), 'k', linestyle='dashed')\n",
    "    plt.plot((n*F_BPFO_w, n*F_BPFO_w), (0, 0.3), 'r', linestyle='dashed')"
   ]
  },
  {
   "cell_type": "code",
   "execution_count": null,
   "metadata": {},
   "outputs": [],
   "source": []
  },
  {
   "cell_type": "code",
   "execution_count": null,
   "metadata": {},
   "outputs": [],
   "source": []
  }
 ],
 "metadata": {
  "kernelspec": {
   "display_name": "Python 3 (ipykernel)",
   "language": "python",
   "name": "python3"
  },
  "language_info": {
   "codemirror_mode": {
    "name": "ipython",
    "version": 3
   },
   "file_extension": ".py",
   "mimetype": "text/x-python",
   "name": "python",
   "nbconvert_exporter": "python",
   "pygments_lexer": "ipython3",
   "version": "3.9.12"
  },
  "toc": {
   "base_numbering": 1,
   "nav_menu": {},
   "number_sections": true,
   "sideBar": true,
   "skip_h1_title": false,
   "title_cell": "Table of Contents",
   "title_sidebar": "Contents",
   "toc_cell": false,
   "toc_position": {},
   "toc_section_display": true,
   "toc_window_display": false
  },
  "varInspector": {
   "cols": {
    "lenName": 16,
    "lenType": 16,
    "lenVar": 40
   },
   "kernels_config": {
    "python": {
     "delete_cmd_postfix": "",
     "delete_cmd_prefix": "del ",
     "library": "var_list.py",
     "varRefreshCmd": "print(var_dic_list())"
    },
    "r": {
     "delete_cmd_postfix": ") ",
     "delete_cmd_prefix": "rm(",
     "library": "var_list.r",
     "varRefreshCmd": "cat(var_dic_list()) "
    }
   },
   "types_to_exclude": [
    "module",
    "function",
    "builtin_function_or_method",
    "instance",
    "_Feature"
   ],
   "window_display": false
  }
 },
 "nbformat": 4,
 "nbformat_minor": 4
}
