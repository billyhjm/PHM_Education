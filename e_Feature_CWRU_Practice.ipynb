{
 "cells": [
  {
   "cell_type": "markdown",
   "metadata": {},
   "source": [
    "# Feature Practice - CWRU"
   ]
  },
  {
   "cell_type": "code",
   "execution_count": 1,
   "metadata": {
    "executionInfo": {
     "elapsed": 244,
     "status": "ok",
     "timestamp": 1624809907744,
     "user": {
      "displayName": "Jeonghoon Kim",
      "photoUrl": "https://lh3.googleusercontent.com/a-/AOh14GgOtJjS_RLD2C-D0ZGyJaxPe-AcYKYxnV8Z68-kmjA=s64",
      "userId": "15429995566139220335"
     },
     "user_tz": -540
    },
    "id": "Y-F-QjDPhUZF"
   },
   "outputs": [],
   "source": [
    "import numpy as np\n",
    "import matplotlib.pyplot as plt\n",
    "import pandas as pd\n",
    "from scipy.signal import hilbert\n",
    "from scipy import signal, stats"
   ]
  },
  {
   "cell_type": "code",
   "execution_count": 2,
   "metadata": {
    "executionInfo": {
     "elapsed": 4,
     "status": "ok",
     "timestamp": 1624809712369,
     "user": {
      "displayName": "Jeonghoon Kim",
      "photoUrl": "https://lh3.googleusercontent.com/a-/AOh14GgOtJjS_RLD2C-D0ZGyJaxPe-AcYKYxnV8Z68-kmjA=s64",
      "userId": "15429995566139220335"
     },
     "user_tz": -540
    },
    "id": "1R-kj3wwheRE"
   },
   "outputs": [],
   "source": [
    "import z_dependancy as z_dep\n",
    "plt.rc('font', size=20)"
   ]
  },
  {
   "cell_type": "markdown",
   "metadata": {},
   "source": [
    "# 데이터 로드"
   ]
  },
  {
   "cell_type": "markdown",
   "metadata": {},
   "source": [
    "## 회전 주파수 알아보기"
   ]
  },
  {
   "cell_type": "code",
   "execution_count": 6,
   "metadata": {
    "executionInfo": {
     "elapsed": 1,
     "status": "ok",
     "timestamp": 1624290758880,
     "user": {
      "displayName": "Jeonghoon Kim",
      "photoUrl": "https://lh3.googleusercontent.com/a-/AOh14GgOtJjS_RLD2C-D0ZGyJaxPe-AcYKYxnV8Z68-kmjA=s64",
      "userId": "15429995566139220335"
     },
     "user_tz": -540
    },
    "id": "2FusbaF5U79j"
   },
   "outputs": [
    {
     "name": "stdout",
     "output_type": "stream",
     "text": [
      "Shaft Frequency is 29.95\n"
     ]
    }
   ],
   "source": [
    "fs=12000\n",
    "\n",
    "F_shaft_rpm = 1797\n",
    "F_shaft = F_shaft_rpm/60\n",
    "print('Shaft Frequency is', F_shaft)"
   ]
  },
  {
   "cell_type": "markdown",
   "metadata": {},
   "source": [
    "## 베어링 주파수 DB 만들기"
   ]
  },
  {
   "cell_type": "code",
   "execution_count": 7,
   "metadata": {
    "executionInfo": {
     "elapsed": 4,
     "status": "ok",
     "timestamp": 1624809712370,
     "user": {
      "displayName": "Jeonghoon Kim",
      "photoUrl": "https://lh3.googleusercontent.com/a-/AOh14GgOtJjS_RLD2C-D0ZGyJaxPe-AcYKYxnV8Z68-kmjA=s64",
      "userId": "15429995566139220335"
     },
     "user_tz": -540
    },
    "id": "xQgJTjoZhjyM"
   },
   "outputs": [],
   "source": [
    "F_BPFI = 5.4152\n",
    "F_BPFO = 3.5848\n",
    "F_FTF = 0.398\n",
    "F_BSF = 4.7135\n",
    "\n",
    "F_BPFI_w = F_BPFI*F_shaft\n",
    "F_BPFO_w = F_BPFO*F_shaft\n",
    "F_FTF_w = F_FTF*F_shaft\n",
    "F_BSF_w = F_BSF*F_shaft"
   ]
  },
  {
   "cell_type": "markdown",
   "metadata": {},
   "source": [
    "## 신호 로드하고 그려보기"
   ]
  },
  {
   "cell_type": "markdown",
   "metadata": {},
   "source": [
    "### 신호를 로드해 주세요. \n",
    "정상 데이터를 v_n, 결함 데이터를 v_f로 지정해 주세요"
   ]
  },
  {
   "cell_type": "code",
   "execution_count": null,
   "metadata": {
    "executionInfo": {
     "elapsed": 6,
     "status": "ok",
     "timestamp": 1624809712627,
     "user": {
      "displayName": "Jeonghoon Kim",
      "photoUrl": "https://lh3.googleusercontent.com/a-/AOh14GgOtJjS_RLD2C-D0ZGyJaxPe-AcYKYxnV8Z68-kmjA=s64",
      "userId": "15429995566139220335"
     },
     "user_tz": -540
    },
    "id": "8Iv9rciriWAF"
   },
   "outputs": [],
   "source": [
    "\n",
    "\n",
    "\n",
    "\n",
    "\n",
    "\n",
    "\n",
    "\n",
    "\n",
    "\n",
    "\n",
    "\n",
    "\n"
   ]
  },
  {
   "cell_type": "markdown",
   "metadata": {},
   "source": [
    "### 정상, 고장 신호를 한 그래프에 그려주세요"
   ]
  },
  {
   "cell_type": "code",
   "execution_count": null,
   "metadata": {
    "colab": {
     "base_uri": "https://localhost:8080/",
     "height": 283
    },
    "executionInfo": {
     "elapsed": 342,
     "status": "ok",
     "timestamp": 1624809712963,
     "user": {
      "displayName": "Jeonghoon Kim",
      "photoUrl": "https://lh3.googleusercontent.com/a-/AOh14GgOtJjS_RLD2C-D0ZGyJaxPe-AcYKYxnV8Z68-kmjA=s64",
      "userId": "15429995566139220335"
     },
     "user_tz": -540
    },
    "id": "MXNSe9Z06TEK",
    "outputId": "e12ef66a-5889-440b-e7dd-5ea5445f1d7b"
   },
   "outputs": [],
   "source": [
    "\n",
    "\n",
    "\n",
    "\n",
    "\n",
    "\n",
    "\n",
    "\n",
    "\n",
    "\n",
    "\n",
    "\n",
    "\n"
   ]
  },
  {
   "cell_type": "markdown",
   "metadata": {},
   "source": [
    "## 주파수 분석해보기"
   ]
  },
  {
   "cell_type": "markdown",
   "metadata": {},
   "source": [
    "### 정상, 고장 신호에 대해 주파수 분석을 한 후 한 그래프에 그려주세요"
   ]
  },
  {
   "cell_type": "code",
   "execution_count": null,
   "metadata": {
    "executionInfo": {
     "elapsed": 2,
     "status": "ok",
     "timestamp": 1624809712963,
     "user": {
      "displayName": "Jeonghoon Kim",
      "photoUrl": "https://lh3.googleusercontent.com/a-/AOh14GgOtJjS_RLD2C-D0ZGyJaxPe-AcYKYxnV8Z68-kmjA=s64",
      "userId": "15429995566139220335"
     },
     "user_tz": -540
    },
    "id": "XIEHsBkf6aY5"
   },
   "outputs": [],
   "source": [
    "\n",
    "\n",
    "\n",
    "\n",
    "\n",
    "\n",
    "\n",
    "\n",
    "\n",
    "\n",
    "\n",
    "\n",
    "\n"
   ]
  },
  {
   "cell_type": "markdown",
   "metadata": {},
   "source": [
    "# Feature 추출"
   ]
  },
  {
   "cell_type": "code",
   "execution_count": null,
   "metadata": {},
   "outputs": [],
   "source": [
    "band=np.matrix([[400,900],\n",
    "                [2000,4500],\n",
    "                [4500,5999],\n",
    "                [F_BPFO_w*0.9, F_BPFO_w*1.1],\n",
    "                [2*F_BPFO_w*0.9, 2*F_BPFO_w*1.1],\n",
    "                [3*F_BPFO_w*0.9, 3*F_BPFO_w*1.1]])\n",
    "\n",
    "print(band)"
   ]
  },
  {
   "cell_type": "markdown",
   "metadata": {},
   "source": [
    "## Raw Data로 Feature 추출해보기"
   ]
  },
  {
   "cell_type": "code",
   "execution_count": null,
   "metadata": {
    "executionInfo": {
     "elapsed": 994,
     "status": "ok",
     "timestamp": 1624809714476,
     "user": {
      "displayName": "Jeonghoon Kim",
      "photoUrl": "https://lh3.googleusercontent.com/a-/AOh14GgOtJjS_RLD2C-D0ZGyJaxPe-AcYKYxnV8Z68-kmjA=s64",
      "userId": "15429995566139220335"
     },
     "user_tz": -540
    },
    "id": "7DU4nbND-uqo"
   },
   "outputs": [],
   "source": [
    "feature_n, feature_name = z_dep.z_feature_simple(v_n, fs, band)\n",
    "feature_f,feature_name_f = z_dep.z_feature_simple(v_f, fs, band)\n",
    "feature_ratio = feature_f/feature_n"
   ]
  },
  {
   "cell_type": "code",
   "execution_count": null,
   "metadata": {
    "colab": {
     "base_uri": "https://localhost:8080/",
     "height": 347
    },
    "executionInfo": {
     "elapsed": 581,
     "status": "ok",
     "timestamp": 1624809715055,
     "user": {
      "displayName": "Jeonghoon Kim",
      "photoUrl": "https://lh3.googleusercontent.com/a-/AOh14GgOtJjS_RLD2C-D0ZGyJaxPe-AcYKYxnV8Z68-kmjA=s64",
      "userId": "15429995566139220335"
     },
     "user_tz": -540
    },
    "id": "EWTYO6kE_aYK",
    "outputId": "03c440af-d21b-4d99-b428-bcb1b38bd862"
   },
   "outputs": [],
   "source": [
    "plt.figure(figsize=(8,6))\n",
    "plt.plot(feature_n,'-bo')\n",
    "plt.plot(feature_f,'-rx')\n",
    "plt.xticks(np.arange(0,np.size(feature_name)),feature_name,rotation='vertical');\n",
    "plt.ylabel('Features')\n",
    "plt.show()\n",
    "\n",
    "plt.figure(figsize=(8,6))\n",
    "plt.plot(feature_ratio,'-bo')\n",
    "plt.xticks(np.arange(0,np.size(feature_name)),feature_name,rotation='vertical');\n",
    "plt.ylabel('Ratio')\n",
    "plt.show()"
   ]
  },
  {
   "cell_type": "markdown",
   "metadata": {},
   "source": [
    "## 포락선 데이터로 Feature 추출해보기"
   ]
  },
  {
   "cell_type": "code",
   "execution_count": null,
   "metadata": {
    "executionInfo": {
     "elapsed": 1030,
     "status": "ok",
     "timestamp": 1624809716667,
     "user": {
      "displayName": "Jeonghoon Kim",
      "photoUrl": "https://lh3.googleusercontent.com/a-/AOh14GgOtJjS_RLD2C-D0ZGyJaxPe-AcYKYxnV8Z68-kmjA=s64",
      "userId": "15429995566139220335"
     },
     "user_tz": -540
    },
    "id": "iV-qt7nXHSpD"
   },
   "outputs": [],
   "source": [
    "v_env_n = abs(hilbert(v_n,axis=0));\n",
    "v_env_f = abs(hilbert(v_f,axis=0));"
   ]
  },
  {
   "cell_type": "code",
   "execution_count": null,
   "metadata": {
    "executionInfo": {
     "elapsed": 1030,
     "status": "ok",
     "timestamp": 1624809716667,
     "user": {
      "displayName": "Jeonghoon Kim",
      "photoUrl": "https://lh3.googleusercontent.com/a-/AOh14GgOtJjS_RLD2C-D0ZGyJaxPe-AcYKYxnV8Z68-kmjA=s64",
      "userId": "15429995566139220335"
     },
     "user_tz": -540
    },
    "id": "iV-qt7nXHSpD"
   },
   "outputs": [],
   "source": [
    "feature_env_n,feature_name_n = z_dep.z_feature_simple(v_env_n, fs, band)\n",
    "feature_env_f,feature_name_f = z_dep.z_feature_simple(v_env_f, fs, band)\n",
    "feature_env_ratio = feature_env_f/feature_env_n"
   ]
  },
  {
   "cell_type": "code",
   "execution_count": null,
   "metadata": {},
   "outputs": [],
   "source": [
    "plt.figure(figsize=(8,6))\n",
    "plt.plot(feature_env_n,'-bo')\n",
    "plt.plot(feature_env_f,'-rx')\n",
    "plt.xticks(np.arange(0,np.size(feature_name)),feature_name,rotation='vertical');\n",
    "plt.ylabel('Features')\n",
    "plt.show()\n",
    "\n",
    "plt.figure(figsize=(8,6))\n",
    "plt.plot(feature_env_ratio,'-bo')\n",
    "plt.xticks(np.arange(0,np.size(feature_name)),feature_name,rotation='vertical');\n",
    "plt.ylabel('Ratio')\n",
    "plt.show()"
   ]
  },
  {
   "cell_type": "markdown",
   "metadata": {
    "id": "4KjJorMyQ0F3"
   },
   "source": [
    "## 필터링 데이터로 Feature 추출해보기"
   ]
  },
  {
   "cell_type": "code",
   "execution_count": null,
   "metadata": {
    "executionInfo": {
     "elapsed": 234,
     "status": "ok",
     "timestamp": 1624809833406,
     "user": {
      "displayName": "Jeonghoon Kim",
      "photoUrl": "https://lh3.googleusercontent.com/a-/AOh14GgOtJjS_RLD2C-D0ZGyJaxPe-AcYKYxnV8Z68-kmjA=s64",
      "userId": "15429995566139220335"
     },
     "user_tz": -540
    },
    "id": "FDnudQvBJi--"
   },
   "outputs": [],
   "source": [
    "ftype='band'\n",
    "Wn=np.array([2500,4500])\n",
    "print(Wn)"
   ]
  },
  {
   "cell_type": "markdown",
   "metadata": {},
   "source": [
    "### 정상, 고장 신호에 대해 필터링을 수행해 주세요.\n",
    "정상신호에 대한 결과는 v_filter_n, 결함신호에 대한 결과는 v_filter_f 라는 변수로 지정해 주세요."
   ]
  },
  {
   "cell_type": "code",
   "execution_count": null,
   "metadata": {
    "executionInfo": {
     "elapsed": 234,
     "status": "ok",
     "timestamp": 1624809833406,
     "user": {
      "displayName": "Jeonghoon Kim",
      "photoUrl": "https://lh3.googleusercontent.com/a-/AOh14GgOtJjS_RLD2C-D0ZGyJaxPe-AcYKYxnV8Z68-kmjA=s64",
      "userId": "15429995566139220335"
     },
     "user_tz": -540
    },
    "id": "FDnudQvBJi--"
   },
   "outputs": [],
   "source": [
    "\n",
    "\n",
    "\n",
    "\n",
    "\n",
    "\n",
    "\n",
    "\n",
    "\n",
    "\n",
    "\n",
    "\n",
    "\n"
   ]
  },
  {
   "cell_type": "code",
   "execution_count": null,
   "metadata": {
    "executionInfo": {
     "elapsed": 1283,
     "status": "ok",
     "timestamp": 1624810238362,
     "user": {
      "displayName": "Jeonghoon Kim",
      "photoUrl": "https://lh3.googleusercontent.com/a-/AOh14GgOtJjS_RLD2C-D0ZGyJaxPe-AcYKYxnV8Z68-kmjA=s64",
      "userId": "15429995566139220335"
     },
     "user_tz": -540
    },
    "id": "1fRMhu2wO_CB",
    "scrolled": false
   },
   "outputs": [],
   "source": [
    "feature_filter_n,feature_name = z_dep.z_feature_simple(v_filter_n, fs, band);\n",
    "feature_filter_f,feature_name = z_dep.z_feature_simple(v_filter_f, fs, band);\n",
    "feature_filter_ratio = feature_filter_f/feature_filter_n"
   ]
  },
  {
   "cell_type": "code",
   "execution_count": null,
   "metadata": {
    "colab": {
     "base_uri": "https://localhost:8080/",
     "height": 365
    },
    "executionInfo": {
     "elapsed": 739,
     "status": "ok",
     "timestamp": 1624810265092,
     "user": {
      "displayName": "Jeonghoon Kim",
      "photoUrl": "https://lh3.googleusercontent.com/a-/AOh14GgOtJjS_RLD2C-D0ZGyJaxPe-AcYKYxnV8Z68-kmjA=s64",
      "userId": "15429995566139220335"
     },
     "user_tz": -540
    },
    "id": "4cktgtkiPKsn",
    "outputId": "31def202-9d7f-404b-e9c9-59a08d52ec29"
   },
   "outputs": [],
   "source": [
    "plt.figure(figsize=(8,6))\n",
    "plt.plot(feature_filter_n,'-bo')\n",
    "plt.plot(feature_filter_f,'-rx')\n",
    "plt.xticks(np.arange(0,np.size(feature_name)),feature_name,rotation='vertical');\n",
    "plt.ylabel('Features')\n",
    "plt.show()\n",
    "\n",
    "plt.figure(figsize=(8,6))\n",
    "plt.plot(feature_filter_ratio,'-bo')\n",
    "plt.xticks(np.arange(0,np.size(feature_name)),feature_name,rotation='vertical');\n",
    "plt.ylabel('Ratio')\n",
    "plt.ylim([0, 150])\n",
    "plt.show()"
   ]
  },
  {
   "cell_type": "markdown",
   "metadata": {
    "id": "lYNyAU2SQ4Aa"
   },
   "source": [
    "## 필터링 포락선 데이터로 Feature 추출해보기"
   ]
  },
  {
   "cell_type": "markdown",
   "metadata": {},
   "source": [
    "### 정상, 고장 신호의 필터링 결과에 대해 포락선 분석을 수행해 주세요.\n",
    "정상신호에 대한 결과는 v_filter_env_n, 결함신호에 대한 결과는 v_filter_env_f 라는 변수로 지정해 주세요."
   ]
  },
  {
   "cell_type": "code",
   "execution_count": null,
   "metadata": {
    "executionInfo": {
     "elapsed": 231,
     "status": "ok",
     "timestamp": 1624810281620,
     "user": {
      "displayName": "Jeonghoon Kim",
      "photoUrl": "https://lh3.googleusercontent.com/a-/AOh14GgOtJjS_RLD2C-D0ZGyJaxPe-AcYKYxnV8Z68-kmjA=s64",
      "userId": "15429995566139220335"
     },
     "user_tz": -540
    },
    "id": "vsNotw2fPRWj"
   },
   "outputs": [],
   "source": [
    "\n",
    "\n",
    "\n",
    "\n",
    "\n",
    "\n",
    "\n",
    "\n",
    "\n",
    "\n",
    "\n",
    "\n",
    "\n"
   ]
  },
  {
   "cell_type": "code",
   "execution_count": null,
   "metadata": {
    "executionInfo": {
     "elapsed": 1331,
     "status": "ok",
     "timestamp": 1624810728039,
     "user": {
      "displayName": "Jeonghoon Kim",
      "photoUrl": "https://lh3.googleusercontent.com/a-/AOh14GgOtJjS_RLD2C-D0ZGyJaxPe-AcYKYxnV8Z68-kmjA=s64",
      "userId": "15429995566139220335"
     },
     "user_tz": -540
    },
    "id": "g-HkFDPxPhcE"
   },
   "outputs": [],
   "source": [
    "feature_filter_env_n,feature_name = z_dep.z_feature_simple(v_filter_env_n, fs, band)\n",
    "feature_filter_env_f,feature_name = z_dep.z_feature_simple(v_filter_env_f, fs, band)\n",
    "feature_filter_env_ratio = feature_filter_env_f/feature_filter_env_n"
   ]
  },
  {
   "cell_type": "code",
   "execution_count": null,
   "metadata": {
    "colab": {
     "base_uri": "https://localhost:8080/",
     "height": 369
    },
    "executionInfo": {
     "elapsed": 627,
     "status": "ok",
     "timestamp": 1624810769239,
     "user": {
      "displayName": "Jeonghoon Kim",
      "photoUrl": "https://lh3.googleusercontent.com/a-/AOh14GgOtJjS_RLD2C-D0ZGyJaxPe-AcYKYxnV8Z68-kmjA=s64",
      "userId": "15429995566139220335"
     },
     "user_tz": -540
    },
    "id": "4BJy4dokRCO4",
    "outputId": "4cfebaf1-616a-45c1-fce3-2dedec176891"
   },
   "outputs": [],
   "source": [
    "plt.figure(figsize=(8,6))\n",
    "plt.plot(feature_filter_env_n,'-bo')\n",
    "plt.plot(feature_filter_env_f,'-rx')\n",
    "plt.xticks(np.arange(0,np.size(feature_name)),feature_name,rotation='vertical');\n",
    "plt.show()\n",
    "\n",
    "plt.figure(figsize=(8,6))\n",
    "plt.plot(feature_filter_env_ratio,'-bo')\n",
    "plt.xticks(np.arange(0,np.size(feature_name)),feature_name,rotation='vertical');\n",
    "plt.ylabel('Ratio')\n",
    "plt.ylim([0, 100])\n",
    "plt.show()"
   ]
  }
 ],
 "metadata": {
  "colab": {
   "authorship_tag": "ABX9TyO+9sFziKBl0EZ5ESyexBYk",
   "collapsed_sections": [],
   "name": "[Mathworks]m2py_d_Feature_CWRU.ipynb",
   "provenance": []
  },
  "kernelspec": {
   "display_name": "Python 3 (ipykernel)",
   "language": "python",
   "name": "python3"
  },
  "language_info": {
   "codemirror_mode": {
    "name": "ipython",
    "version": 3
   },
   "file_extension": ".py",
   "mimetype": "text/x-python",
   "name": "python",
   "nbconvert_exporter": "python",
   "pygments_lexer": "ipython3",
   "version": "3.9.9"
  },
  "toc": {
   "base_numbering": 1,
   "nav_menu": {},
   "number_sections": true,
   "sideBar": true,
   "skip_h1_title": false,
   "title_cell": "Table of Contents",
   "title_sidebar": "Contents",
   "toc_cell": false,
   "toc_position": {},
   "toc_section_display": true,
   "toc_window_display": false
  },
  "varInspector": {
   "cols": {
    "lenName": 16,
    "lenType": 16,
    "lenVar": 40
   },
   "kernels_config": {
    "python": {
     "delete_cmd_postfix": "",
     "delete_cmd_prefix": "del ",
     "library": "var_list.py",
     "varRefreshCmd": "print(var_dic_list())"
    },
    "r": {
     "delete_cmd_postfix": ") ",
     "delete_cmd_prefix": "rm(",
     "library": "var_list.r",
     "varRefreshCmd": "cat(var_dic_list()) "
    }
   },
   "types_to_exclude": [
    "module",
    "function",
    "builtin_function_or_method",
    "instance",
    "_Feature"
   ],
   "window_display": false
  }
 },
 "nbformat": 4,
 "nbformat_minor": 1
}
