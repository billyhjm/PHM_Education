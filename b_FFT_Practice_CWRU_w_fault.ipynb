{
 "cells": [
  {
   "cell_type": "code",
   "execution_count": 1,
   "metadata": {},
   "outputs": [],
   "source": [
    "import os\n",
    "try:\n",
    "    os.chdir('/content')\n",
    "    !git clone https://github.com/billyhjm/PHM_Education.git\n",
    "    os.chdir('/content/PHM_Education')\n",
    "except:\n",
    "    pass"
   ]
  },
  {
   "attachments": {},
   "cell_type": "markdown",
   "metadata": {},
   "source": [
    "# FFT Practice - CWRU"
   ]
  },
  {
   "cell_type": "code",
   "execution_count": 2,
   "metadata": {
    "ExecuteTime": {
     "end_time": "2022-03-28T13:01:17.378638Z",
     "start_time": "2022-03-28T13:01:17.360719Z"
    },
    "executionInfo": {
     "elapsed": 414,
     "status": "ok",
     "timestamp": 1624290758480,
     "user": {
      "displayName": "Jeonghoon Kim",
      "photoUrl": "https://lh3.googleusercontent.com/a-/AOh14GgOtJjS_RLD2C-D0ZGyJaxPe-AcYKYxnV8Z68-kmjA=s64",
      "userId": "15429995566139220335"
     },
     "user_tz": -540
    },
    "id": "uCwKVTNLW9YU"
   },
   "outputs": [],
   "source": [
    "import numpy as np\n",
    "import matplotlib.pyplot as plt\n",
    "import pandas as pd\n",
    "import z_dependancy as z_dep\n",
    "plt.rc('font', size=20)"
   ]
  },
  {
   "attachments": {},
   "cell_type": "markdown",
   "metadata": {},
   "source": [
    "# 데이터 로드"
   ]
  },
  {
   "attachments": {},
   "cell_type": "markdown",
   "metadata": {},
   "source": [
    "## 회전 주파수 알아보기"
   ]
  },
  {
   "cell_type": "code",
   "execution_count": 3,
   "metadata": {
    "ExecuteTime": {
     "end_time": "2022-03-28T13:01:17.438479Z",
     "start_time": "2022-03-28T13:01:17.425514Z"
    },
    "executionInfo": {
     "elapsed": 1,
     "status": "ok",
     "timestamp": 1624290758880,
     "user": {
      "displayName": "Jeonghoon Kim",
      "photoUrl": "https://lh3.googleusercontent.com/a-/AOh14GgOtJjS_RLD2C-D0ZGyJaxPe-AcYKYxnV8Z68-kmjA=s64",
      "userId": "15429995566139220335"
     },
     "user_tz": -540
    },
    "id": "2FusbaF5U79j"
   },
   "outputs": [
    {
     "name": "stdout",
     "output_type": "stream",
     "text": [
      "Shaft Frequency is 29.95\n"
     ]
    }
   ],
   "source": [
    "F_shaft_rpm = 1797\n",
    "F_shaft = F_shaft_rpm/60\n",
    "print('Shaft Frequency is', F_shaft)"
   ]
  },
  {
   "attachments": {},
   "cell_type": "markdown",
   "metadata": {},
   "source": [
    "## 베어링 주파수 DB 만들기"
   ]
  },
  {
   "cell_type": "code",
   "execution_count": 4,
   "metadata": {
    "ExecuteTime": {
     "end_time": "2022-03-28T13:01:17.453439Z",
     "start_time": "2022-03-28T13:01:17.440472Z"
    },
    "executionInfo": {
     "elapsed": 1,
     "status": "ok",
     "timestamp": 1624290758880,
     "user": {
      "displayName": "Jeonghoon Kim",
      "photoUrl": "https://lh3.googleusercontent.com/a-/AOh14GgOtJjS_RLD2C-D0ZGyJaxPe-AcYKYxnV8Z68-kmjA=s64",
      "userId": "15429995566139220335"
     },
     "user_tz": -540
    },
    "id": "2FusbaF5U79j"
   },
   "outputs": [],
   "source": [
    "F_BPFI = 5.4152\n",
    "F_BPFO = 3.5848\n",
    "F_FTF = 0.398\n",
    "F_BSF = 4.7135\n",
    "\n",
    "F_BPFI_w = F_BPFI*F_shaft\n",
    "F_BPFO_w = F_BPFO*F_shaft\n",
    "F_FTF_w = F_FTF*F_shaft\n",
    "F_BSF_w = F_BSF*F_shaft"
   ]
  },
  {
   "attachments": {},
   "cell_type": "markdown",
   "metadata": {},
   "source": [
    "## 신호 로드하고 그려보기"
   ]
  },
  {
   "attachments": {},
   "cell_type": "markdown",
   "metadata": {},
   "source": [
    "### 신호 로드하기"
   ]
  },
  {
   "cell_type": "code",
   "execution_count": 5,
   "metadata": {
    "ExecuteTime": {
     "end_time": "2022-03-28T13:01:17.588559Z",
     "start_time": "2022-03-28T13:01:17.456428Z"
    }
   },
   "outputs": [
    {
     "name": "stdout",
     "output_type": "stream",
     "text": [
      "(243938, 2)\n",
      "[[0.00000000e+00 1.45667273e-01]\n",
      " [1.00000000e+00 9.77963636e-02]\n",
      " [2.00000000e+00 5.48563636e-02]\n",
      " ...\n",
      " [2.43935000e+05 1.40530909e-01]\n",
      " [2.43936000e+05 9.55363636e-02]\n",
      " [2.43937000e+05 9.01945455e-02]]\n"
     ]
    }
   ],
   "source": [
    "fs=12000\n",
    "data = np.array(pd.read_csv('./data/data_normal.csv'))\n",
    "print(np.shape(data))\n",
    "print(data)\n",
    "v_n = data[:,1]"
   ]
  },
  {
   "cell_type": "code",
   "execution_count": 6,
   "metadata": {
    "ExecuteTime": {
     "end_time": "2022-03-28T13:01:17.648319Z",
     "start_time": "2022-03-28T13:01:17.589476Z"
    }
   },
   "outputs": [
    {
     "name": "stdout",
     "output_type": "stream",
     "text": [
      "(121846, 2)\n",
      "[[ 0.00000000e+00  2.27353293e-03]\n",
      " [ 1.00000000e+00 -1.04947904e-01]\n",
      " [ 2.00000000e+00  8.20095808e-02]\n",
      " ...\n",
      " [ 1.21843000e+05 -1.12377485e-01]\n",
      " [ 1.21844000e+05 -8.52980838e-02]\n",
      " [ 1.21845000e+05 -2.62674251e-02]]\n"
     ]
    }
   ],
   "source": [
    "data = np.array(pd.read_csv('./data/data_fault.csv'))\n",
    "print(np.shape(data))\n",
    "print(data)\n",
    "v_f = data[:,1]"
   ]
  },
  {
   "attachments": {},
   "cell_type": "markdown",
   "metadata": {},
   "source": [
    "### 신호 그리기"
   ]
  },
  {
   "cell_type": "code",
   "execution_count": 7,
   "metadata": {
    "ExecuteTime": {
     "end_time": "2022-03-28T13:01:17.903014Z",
     "start_time": "2022-03-28T13:01:17.651310Z"
    },
    "colab": {
     "base_uri": "https://localhost:8080/",
     "height": 301
    },
    "executionInfo": {
     "elapsed": 458,
     "status": "ok",
     "timestamp": 1624290759337,
     "user": {
      "displayName": "Jeonghoon Kim",
      "photoUrl": "https://lh3.googleusercontent.com/a-/AOh14GgOtJjS_RLD2C-D0ZGyJaxPe-AcYKYxnV8Z68-kmjA=s64",
      "userId": "15429995566139220335"
     },
     "user_tz": -540
    },
    "id": "O16YGR0PZNav",
    "outputId": "cf6120ab-b092-4be6-f4ba-9a49ac29d132"
   },
   "outputs": [
    {
     "data": {
      "text/plain": [
       "(-4.0, 4.0)"
      ]
     },
     "execution_count": 7,
     "metadata": {},
     "output_type": "execute_result"
    },
    {
     "data": {
      "image/png": "[encoded data removed]",
      "text/plain": [
       "<Figure size 432x288 with 1 Axes>"
      ]
     },
     "metadata": {
      "needs_background": "light"
     },
     "output_type": "display_data"
    }
   ],
   "source": [
    "T_n = len(v_n)/fs               # 전체 샘플수 / 1초당 샘플수 = 총 시간\n",
    "t_n=np.arange(1/fs, T_n, 1/fs)  # 1/fs초 부터 T초까지 1/fs초 간격\n",
    "T_f = len(v_f)/fs\n",
    "t_f = np.arange(1/fs, T_f, 1/fs)\n",
    "\n",
    "plt.figure()\n",
    "plt.plot(t_f,v_f,'r')\n",
    "plt.plot(t_n,v_n,'b')\n",
    "plt.xlabel('Time')\n",
    "plt.ylabel('v')\n",
    "plt.ylim([-4,4])"
   ]
  },
  {
   "attachments": {},
   "cell_type": "markdown",
   "metadata": {},
   "source": [
    "## 주파수 분석해보기"
   ]
  },
  {
   "cell_type": "code",
   "execution_count": 8,
   "metadata": {
    "ExecuteTime": {
     "end_time": "2022-03-28T13:01:18.023154Z",
     "start_time": "2022-03-28T13:01:17.906005Z"
    },
    "executionInfo": {
     "elapsed": 7,
     "status": "ok",
     "timestamp": 1624290759337,
     "user": {
      "displayName": "Jeonghoon Kim",
      "photoUrl": "https://lh3.googleusercontent.com/a-/AOh14GgOtJjS_RLD2C-D0ZGyJaxPe-AcYKYxnV8Z68-kmjA=s64",
      "userId": "15429995566139220335"
     },
     "user_tz": -540
    },
    "id": "CfknX7Y1Znj0"
   },
   "outputs": [],
   "source": [
    "f_n, A_n = z_dep.z_fft_simple(v_n,fs)\n",
    "f_f, A_f = z_dep.z_fft_simple(v_f,fs)"
   ]
  },
  {
   "cell_type": "code",
   "execution_count": 9,
   "metadata": {
    "ExecuteTime": {
     "end_time": "2022-03-28T13:01:18.248491Z",
     "start_time": "2022-03-28T13:01:18.025424Z"
    },
    "colab": {
     "base_uri": "https://localhost:8080/",
     "height": 301
    },
    "executionInfo": {
     "elapsed": 3,
     "status": "ok",
     "timestamp": 1624290759716,
     "user": {
      "displayName": "Jeonghoon Kim",
      "photoUrl": "https://lh3.googleusercontent.com/a-/AOh14GgOtJjS_RLD2C-D0ZGyJaxPe-AcYKYxnV8Z68-kmjA=s64",
      "userId": "15429995566139220335"
     },
     "user_tz": -540
    },
    "id": "fYFRm5adO8Ds",
    "outputId": "ae7d5402-5dbf-4884-94bc-e0b65cdfd9d9"
   },
   "outputs": [
    {
     "data": {
      "text/plain": [
       "(0.0, 0.06)"
      ]
     },
     "execution_count": 9,
     "metadata": {},
     "output_type": "execute_result"
    },
    {
     "data": {
      "image/png": "[encoded data removed]",
      "text/plain": [
       "<Figure size 432x288 with 1 Axes>"
      ]
     },
     "metadata": {
      "needs_background": "light"
     },
     "output_type": "display_data"
    }
   ],
   "source": [
    "plt.figure()\n",
    "plt.plot(f_f,A_f,'r')\n",
    "plt.plot(f_n,A_n,'b')\n",
    "plt.xlabel('Frequency')\n",
    "plt.ylabel('|Y|')\n",
    "plt.ylim([0,0.06])"
   ]
  },
  {
   "cell_type": "code",
   "execution_count": 10,
   "metadata": {
    "ExecuteTime": {
     "end_time": "2022-03-28T13:01:18.427967Z",
     "start_time": "2022-03-28T13:01:18.250442Z"
    }
   },
   "outputs": [
    {
     "data": {
      "image/png": "[encoded data removed]",
      "text/plain": [
       "<Figure size 432x288 with 1 Axes>"
      ]
     },
     "metadata": {
      "needs_background": "light"
     },
     "output_type": "display_data"
    }
   ],
   "source": [
    "plt.figure()\n",
    "plt.plot(f_f, A_f, 'r')\n",
    "plt.plot(f_n, A_n, 'b')\n",
    "plt.xlabel('Frequency')\n",
    "plt.ylabel('|Y|')\n",
    "plt.xlim([0, 600])\n",
    "plt.ylim([0,0.02])\n",
    "\n",
    "for n in range(4):\n",
    "    plt.plot((n*F_shaft, n*F_shaft), (0, 0.3), 'k', linestyle='dashed')\n",
    "    plt.plot((n*F_BPFO_w, n*F_BPFO_w), (0, 0.3), 'r', linestyle='dashed')"
   ]
  },
  {
   "cell_type": "code",
   "execution_count": null,
   "metadata": {},
   "outputs": [],
   "source": []
  }
 ],
 "metadata": {
  "colab": {
   "authorship_tag": "ABX9TyP+wTYq8J7VE8R+WWc31/xh",
   "collapsed_sections": [],
   "mount_file_id": "12XmLPLne0eFCIw2xn-VNCfECci3Yec8b",
   "name": "[Mathworks]m2py_b_FFT_Practice_CWRU.ipynb",
   "provenance": []
  },
  "kernelspec": {
   "display_name": "Python 3 (ipykernel)",
   "language": "python",
   "name": "python3"
  },
  "language_info": {
   "codemirror_mode": {
    "name": "ipython",
    "version": 3
   },
   "file_extension": ".py",
   "mimetype": "text/x-python",
   "name": "python",
   "nbconvert_exporter": "python",
   "pygments_lexer": "ipython3",
   "version": "3.9.12"
  },
  "toc": {
   "base_numbering": 1,
   "nav_menu": {},
   "number_sections": true,
   "sideBar": true,
   "skip_h1_title": false,
   "title_cell": "Table of Contents",
   "title_sidebar": "Contents",
   "toc_cell": false,
   "toc_position": {},
   "toc_section_display": true,
   "toc_window_display": false
  },
  "varInspector": {
   "cols": {
    "lenName": 16,
    "lenType": 16,
    "lenVar": 40
   },
   "kernels_config": {
    "python": {
     "delete_cmd_postfix": "",
     "delete_cmd_prefix": "del ",
     "library": "var_list.py",
     "varRefreshCmd": "print(var_dic_list())"
    },
    "r": {
     "delete_cmd_postfix": ") ",
     "delete_cmd_prefix": "rm(",
     "library": "var_list.r",
     "varRefreshCmd": "cat(var_dic_list()) "
    }
   },
   "types_to_exclude": [
    "module",
    "function",
    "builtin_function_or_method",
    "instance",
    "_Feature"
   ],
   "window_display": false
  }
 },
 "nbformat": 4,
 "nbformat_minor": 1
}
